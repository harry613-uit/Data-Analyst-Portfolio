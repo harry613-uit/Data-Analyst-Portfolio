{
 "cells": [
  {
   "cell_type": "code",
   "execution_count": 9,
   "id": "353ab56f",
   "metadata": {},
   "outputs": [
    {
     "data": {
      "text/html": [
       "<div>\n",
       "<style scoped>\n",
       "    .dataframe tbody tr th:only-of-type {\n",
       "        vertical-align: middle;\n",
       "    }\n",
       "\n",
       "    .dataframe tbody tr th {\n",
       "        vertical-align: top;\n",
       "    }\n",
       "\n",
       "    .dataframe thead th {\n",
       "        text-align: right;\n",
       "    }\n",
       "</style>\n",
       "<table border=\"1\" class=\"dataframe\">\n",
       "  <thead>\n",
       "    <tr style=\"text-align: right;\">\n",
       "      <th></th>\n",
       "      <th>Year</th>\n",
       "      <th>Title</th>\n",
       "      <th>Rated</th>\n",
       "      <th>Director</th>\n",
       "      <th>Released</th>\n",
       "      <th>Writer</th>\n",
       "      <th>Production</th>\n",
       "      <th>Actors</th>\n",
       "      <th>Runtime</th>\n",
       "      <th>Awards</th>\n",
       "      <th>Imdb Votes</th>\n",
       "      <th>Imdb Rating</th>\n",
       "      <th>RottenTomatoScore</th>\n",
       "      <th>Metascore</th>\n",
       "    </tr>\n",
       "  </thead>\n",
       "  <tbody>\n",
       "    <tr>\n",
       "      <th>0</th>\n",
       "      <td>1989</td>\n",
       "      <td>Batman</td>\n",
       "      <td>PG-13</td>\n",
       "      <td>Tim Burton</td>\n",
       "      <td>6/23/1989</td>\n",
       "      <td>Bob Kane (Batman characters), Sam Hamm (story)...</td>\n",
       "      <td>Warner Bros. Pictures</td>\n",
       "      <td>Michael Keaton, Jack Nicholson, Kim Basinger, ...</td>\n",
       "      <td>126 min</td>\n",
       "      <td>Won 1 Oscar. Another 8 wins &amp; 26 nominations.</td>\n",
       "      <td>323,942</td>\n",
       "      <td>7.5</td>\n",
       "      <td>72%</td>\n",
       "      <td>69.0</td>\n",
       "    </tr>\n",
       "    <tr>\n",
       "      <th>1</th>\n",
       "      <td>1992</td>\n",
       "      <td>Batman Returns</td>\n",
       "      <td>PG-13</td>\n",
       "      <td>Tim Burton</td>\n",
       "      <td>6/19/1992</td>\n",
       "      <td>Bob Kane (Batman characters), Daniel Waters (s...</td>\n",
       "      <td>Warner Bros. Pictures</td>\n",
       "      <td>Michael Keaton, Danny DeVito, Michelle Pfeiffe...</td>\n",
       "      <td>126 min</td>\n",
       "      <td>Nominated for 2 Oscars. Another 2 wins &amp; 27 no...</td>\n",
       "      <td>261,654</td>\n",
       "      <td>7.0</td>\n",
       "      <td>79%</td>\n",
       "      <td>68.0</td>\n",
       "    </tr>\n",
       "    <tr>\n",
       "      <th>2</th>\n",
       "      <td>1993</td>\n",
       "      <td>Batman: Mask of the Phantasm</td>\n",
       "      <td>PG</td>\n",
       "      <td>Eric Radomski, Bruce Timm, Kevin Altieri, Boyd...</td>\n",
       "      <td>12/25/1993</td>\n",
       "      <td>Bob Kane (character created by: Batman), Alan ...</td>\n",
       "      <td>Warner Bros. Pictures</td>\n",
       "      <td>Kevin Conroy, Dana Delany, Hart Bochner, Stacy...</td>\n",
       "      <td>76 min</td>\n",
       "      <td>1 nomination.</td>\n",
       "      <td>40,226</td>\n",
       "      <td>7.8</td>\n",
       "      <td>84%</td>\n",
       "      <td>NaN</td>\n",
       "    </tr>\n",
       "    <tr>\n",
       "      <th>3</th>\n",
       "      <td>1995</td>\n",
       "      <td>Batman Forever</td>\n",
       "      <td>PG-13</td>\n",
       "      <td>Joel Schumacher</td>\n",
       "      <td>6/16/1995</td>\n",
       "      <td>Bob Kane (characters), Lee Batchler (story), J...</td>\n",
       "      <td>Warner Bros. Pictures</td>\n",
       "      <td>Val Kilmer, Tommy Lee Jones, Jim Carrey, Nicol...</td>\n",
       "      <td>121 min</td>\n",
       "      <td>Nominated for 3 Oscars. Another 10 wins &amp; 22 n...</td>\n",
       "      <td>226,680</td>\n",
       "      <td>5.4</td>\n",
       "      <td>39%</td>\n",
       "      <td>51.0</td>\n",
       "    </tr>\n",
       "    <tr>\n",
       "      <th>4</th>\n",
       "      <td>1997</td>\n",
       "      <td>Batman &amp; Robin</td>\n",
       "      <td>PG-13</td>\n",
       "      <td>Joel Schumacher</td>\n",
       "      <td>6/20/1997</td>\n",
       "      <td>Bob Kane (Batman characters), Akiva Goldsman</td>\n",
       "      <td>Warner Home Video</td>\n",
       "      <td>Arnold Schwarzenegger, George Clooney, Chris O...</td>\n",
       "      <td>125 min</td>\n",
       "      <td>10 wins &amp; 22 nominations.</td>\n",
       "      <td>224,614</td>\n",
       "      <td>3.7</td>\n",
       "      <td>11%</td>\n",
       "      <td>28.0</td>\n",
       "    </tr>\n",
       "  </tbody>\n",
       "</table>\n",
       "</div>"
      ],
      "text/plain": [
       "   Year                         Title  Rated  \\\n",
       "0  1989                        Batman  PG-13   \n",
       "1  1992                Batman Returns  PG-13   \n",
       "2  1993  Batman: Mask of the Phantasm     PG   \n",
       "3  1995                Batman Forever  PG-13   \n",
       "4  1997                Batman & Robin  PG-13   \n",
       "\n",
       "                                            Director    Released  \\\n",
       "0                                         Tim Burton   6/23/1989   \n",
       "1                                         Tim Burton   6/19/1992   \n",
       "2  Eric Radomski, Bruce Timm, Kevin Altieri, Boyd...  12/25/1993   \n",
       "3                                    Joel Schumacher   6/16/1995   \n",
       "4                                    Joel Schumacher   6/20/1997   \n",
       "\n",
       "                                              Writer             Production  \\\n",
       "0  Bob Kane (Batman characters), Sam Hamm (story)...  Warner Bros. Pictures   \n",
       "1  Bob Kane (Batman characters), Daniel Waters (s...  Warner Bros. Pictures   \n",
       "2  Bob Kane (character created by: Batman), Alan ...  Warner Bros. Pictures   \n",
       "3  Bob Kane (characters), Lee Batchler (story), J...  Warner Bros. Pictures   \n",
       "4       Bob Kane (Batman characters), Akiva Goldsman      Warner Home Video   \n",
       "\n",
       "                                              Actors  Runtime  \\\n",
       "0  Michael Keaton, Jack Nicholson, Kim Basinger, ...  126 min   \n",
       "1  Michael Keaton, Danny DeVito, Michelle Pfeiffe...  126 min   \n",
       "2  Kevin Conroy, Dana Delany, Hart Bochner, Stacy...   76 min   \n",
       "3  Val Kilmer, Tommy Lee Jones, Jim Carrey, Nicol...  121 min   \n",
       "4  Arnold Schwarzenegger, George Clooney, Chris O...  125 min   \n",
       "\n",
       "                                              Awards Imdb Votes  Imdb Rating  \\\n",
       "0      Won 1 Oscar. Another 8 wins & 26 nominations.    323,942          7.5   \n",
       "1  Nominated for 2 Oscars. Another 2 wins & 27 no...    261,654          7.0   \n",
       "2                                      1 nomination.     40,226          7.8   \n",
       "3  Nominated for 3 Oscars. Another 10 wins & 22 n...    226,680          5.4   \n",
       "4                          10 wins & 22 nominations.    224,614          3.7   \n",
       "\n",
       "  RottenTomatoScore  Metascore  \n",
       "0               72%       69.0  \n",
       "1               79%       68.0  \n",
       "2               84%        NaN  \n",
       "3               39%       51.0  \n",
       "4               11%       28.0  "
      ]
     },
     "execution_count": 9,
     "metadata": {},
     "output_type": "execute_result"
    }
   ],
   "source": [
    "import numpy as np\n",
    "import pandas as pd\n",
    "import matplotlib.pyplot as plt\n",
    "import seaborn as sns\n",
    "data = pd.read_csv(\"batman_films.csv\")\n",
    "data.head()"
   ]
  },
  {
   "cell_type": "code",
   "execution_count": 10,
   "id": "dc46b448",
   "metadata": {},
   "outputs": [
    {
     "data": {
      "text/html": [
       "<div>\n",
       "<style scoped>\n",
       "    .dataframe tbody tr th:only-of-type {\n",
       "        vertical-align: middle;\n",
       "    }\n",
       "\n",
       "    .dataframe tbody tr th {\n",
       "        vertical-align: top;\n",
       "    }\n",
       "\n",
       "    .dataframe thead th {\n",
       "        text-align: right;\n",
       "    }\n",
       "</style>\n",
       "<table border=\"1\" class=\"dataframe\">\n",
       "  <thead>\n",
       "    <tr style=\"text-align: right;\">\n",
       "      <th></th>\n",
       "      <th>Year</th>\n",
       "      <th>Imdb Rating</th>\n",
       "      <th>Metascore</th>\n",
       "    </tr>\n",
       "  </thead>\n",
       "  <tbody>\n",
       "    <tr>\n",
       "      <th>count</th>\n",
       "      <td>19.000000</td>\n",
       "      <td>19.000000</td>\n",
       "      <td>9.000000</td>\n",
       "    </tr>\n",
       "    <tr>\n",
       "      <th>mean</th>\n",
       "      <td>2006.105263</td>\n",
       "      <td>7.226316</td>\n",
       "      <td>59.666667</td>\n",
       "    </tr>\n",
       "    <tr>\n",
       "      <th>std</th>\n",
       "      <td>9.579461</td>\n",
       "      <td>1.221948</td>\n",
       "      <td>18.472953</td>\n",
       "    </tr>\n",
       "    <tr>\n",
       "      <th>min</th>\n",
       "      <td>1989.000000</td>\n",
       "      <td>3.700000</td>\n",
       "      <td>28.000000</td>\n",
       "    </tr>\n",
       "    <tr>\n",
       "      <th>25%</th>\n",
       "      <td>1997.500000</td>\n",
       "      <td>6.600000</td>\n",
       "      <td>45.000000</td>\n",
       "    </tr>\n",
       "    <tr>\n",
       "      <th>50%</th>\n",
       "      <td>2010.000000</td>\n",
       "      <td>7.500000</td>\n",
       "      <td>68.000000</td>\n",
       "    </tr>\n",
       "    <tr>\n",
       "      <th>75%</th>\n",
       "      <td>2013.500000</td>\n",
       "      <td>8.000000</td>\n",
       "      <td>70.000000</td>\n",
       "    </tr>\n",
       "    <tr>\n",
       "      <th>max</th>\n",
       "      <td>2018.000000</td>\n",
       "      <td>9.000000</td>\n",
       "      <td>84.000000</td>\n",
       "    </tr>\n",
       "  </tbody>\n",
       "</table>\n",
       "</div>"
      ],
      "text/plain": [
       "              Year  Imdb Rating  Metascore\n",
       "count    19.000000    19.000000   9.000000\n",
       "mean   2006.105263     7.226316  59.666667\n",
       "std       9.579461     1.221948  18.472953\n",
       "min    1989.000000     3.700000  28.000000\n",
       "25%    1997.500000     6.600000  45.000000\n",
       "50%    2010.000000     7.500000  68.000000\n",
       "75%    2013.500000     8.000000  70.000000\n",
       "max    2018.000000     9.000000  84.000000"
      ]
     },
     "execution_count": 10,
     "metadata": {},
     "output_type": "execute_result"
    }
   ],
   "source": [
    "data.describe()"
   ]
  },
  {
   "cell_type": "code",
   "execution_count": 12,
   "id": "03bf56a5",
   "metadata": {},
   "outputs": [
    {
     "data": {
      "text/plain": [
       "76 min     6\n",
       "126 min    2\n",
       "121 min    1\n",
       "125 min    1\n",
       "70 min     1\n",
       "140 min    1\n",
       "152 min    1\n",
       "75 min     1\n",
       "64 min     1\n",
       "164 min    1\n",
       "151 min    1\n",
       "120 min    1\n",
       "78 min     1\n",
       "Name: Runtime, dtype: int64"
      ]
     },
     "execution_count": 12,
     "metadata": {},
     "output_type": "execute_result"
    }
   ],
   "source": [
    " data.Runtime.value_counts()"
   ]
  },
  {
   "cell_type": "code",
   "execution_count": 17,
   "id": "de0f3747",
   "metadata": {},
   "outputs": [
    {
     "data": {
      "text/plain": [
       "76 min     6\n",
       "126 min    2\n",
       "121 min    1\n",
       "125 min    1\n",
       "70 min     1\n",
       "140 min    1\n",
       "152 min    1\n",
       "64 min     1\n",
       "164 min    1\n",
       "151 min    1\n",
       "78 min     1\n",
       "Name: Runtime, dtype: int64"
      ]
     },
     "execution_count": 17,
     "metadata": {},
     "output_type": "execute_result"
    }
   ],
   "source": [
    "data = data[data.Runtime.apply(lambda x: x not in [\"75 min\",\"120 min\"])]\n",
    "data.Runtime.value_counts()\n"
   ]
  },
  {
   "cell_type": "code",
   "execution_count": 18,
   "id": "2914f839",
   "metadata": {},
   "outputs": [
    {
     "data": {
      "text/plain": [
       "84%     2\n",
       "72%     1\n",
       "79%     1\n",
       "39%     1\n",
       "11%     1\n",
       "92%     1\n",
       "90%     1\n",
       "94%     1\n",
       "88%     1\n",
       "100%    1\n",
       "87%     1\n",
       "75%     1\n",
       "28%     1\n",
       "40%     1\n",
       "73%     1\n",
       "Name: RottenTomatoScore, dtype: int64"
      ]
     },
     "execution_count": 18,
     "metadata": {},
     "output_type": "execute_result"
    }
   ],
   "source": [
    "data.RottenTomatoScore.value_counts()"
   ]
  },
  {
   "cell_type": "code",
   "execution_count": 19,
   "id": "f3187c72",
   "metadata": {
    "scrolled": true
   },
   "outputs": [
    {
     "data": {
      "text/html": [
       "<div>\n",
       "<style scoped>\n",
       "    .dataframe tbody tr th:only-of-type {\n",
       "        vertical-align: middle;\n",
       "    }\n",
       "\n",
       "    .dataframe tbody tr th {\n",
       "        vertical-align: top;\n",
       "    }\n",
       "\n",
       "    .dataframe thead th {\n",
       "        text-align: right;\n",
       "    }\n",
       "</style>\n",
       "<table border=\"1\" class=\"dataframe\">\n",
       "  <thead>\n",
       "    <tr style=\"text-align: right;\">\n",
       "      <th></th>\n",
       "      <th>Runtime</th>\n",
       "      <th>RottenTomatoScore</th>\n",
       "    </tr>\n",
       "  </thead>\n",
       "  <tbody>\n",
       "    <tr>\n",
       "      <th>0</th>\n",
       "      <td>126 min</td>\n",
       "      <td>72%</td>\n",
       "    </tr>\n",
       "    <tr>\n",
       "      <th>1</th>\n",
       "      <td>126 min</td>\n",
       "      <td>79%</td>\n",
       "    </tr>\n",
       "    <tr>\n",
       "      <th>2</th>\n",
       "      <td>76 min</td>\n",
       "      <td>84%</td>\n",
       "    </tr>\n",
       "    <tr>\n",
       "      <th>3</th>\n",
       "      <td>121 min</td>\n",
       "      <td>39%</td>\n",
       "    </tr>\n",
       "    <tr>\n",
       "      <th>4</th>\n",
       "      <td>125 min</td>\n",
       "      <td>11%</td>\n",
       "    </tr>\n",
       "  </tbody>\n",
       "</table>\n",
       "</div>"
      ],
      "text/plain": [
       "   Runtime RottenTomatoScore\n",
       "0  126 min               72%\n",
       "1  126 min               79%\n",
       "2   76 min               84%\n",
       "3  121 min               39%\n",
       "4  125 min               11%"
      ]
     },
     "execution_count": 19,
     "metadata": {},
     "output_type": "execute_result"
    }
   ],
   "source": [
    "df = data[[\"Runtime\", \"RottenTomatoScore\"]]\n",
    "df.head()"
   ]
  },
  {
   "cell_type": "markdown",
   "id": "f1590c40",
   "metadata": {},
   "source": [
    "Now IMbd Rating Vs RottenTomatoScore"
   ]
  },
  {
   "cell_type": "code",
   "execution_count": 34,
   "id": "997a13c5",
   "metadata": {},
   "outputs": [
    {
     "data": {
      "text/plain": [
       "Runtime              0\n",
       "RottenTomatoScore    1\n",
       "dtype: int64"
      ]
     },
     "execution_count": 34,
     "metadata": {},
     "output_type": "execute_result"
    }
   ],
   "source": [
    " df.isnull().sum()"
   ]
  },
  {
   "cell_type": "code",
   "execution_count": null,
   "id": "2b3ddc7f",
   "metadata": {},
   "outputs": [],
   "source": []
  }
 ],
 "metadata": {
  "kernelspec": {
   "display_name": "Python 3 (ipykernel)",
   "language": "python",
   "name": "python3"
  },
  "language_info": {
   "codemirror_mode": {
    "name": "ipython",
    "version": 3
   },
   "file_extension": ".py",
   "mimetype": "text/x-python",
   "name": "python",
   "nbconvert_exporter": "python",
   "pygments_lexer": "ipython3",
   "version": "3.9.7"
  }
 },
 "nbformat": 4,
 "nbformat_minor": 5
}
